{
 "cells": [
  {
   "attachments": {},
   "cell_type": "markdown",
   "metadata": {},
   "source": [
    "Modification for branch testing"
   ]
  },
  {
   "cell_type": "code",
   "execution_count": null,
   "metadata": {},
   "outputs": [],
   "source": [
    "import random"
   ]
  },
  {
   "cell_type": "markdown",
   "metadata": {},
   "source": [
    "### Binary Search"
   ]
  },
  {
   "cell_type": "code",
   "execution_count": null,
   "metadata": {},
   "outputs": [],
   "source": [
    "def binary_search(list,item):\n",
    "    \"\"\"_summary_\n",
    "    Find item in sorted list based on binary search\n",
    "    Args:\n",
    "        list (seq): ordered list of even numbers\n",
    "        item (number): number to find position of in list\n",
    "    \"\"\"\n",
    "      \n",
    "    start = 0\n",
    "    end = len(list)-1\n",
    "    \n",
    "    while start <= end:\n",
    "        i = (start + end)//2\n",
    "        if list[i] == item:\n",
    "            return print('found at position',i+1) \n",
    "        else:\n",
    "            i = (start + end)//2\n",
    "            if list[i] < item:\n",
    "                list=list[i:]\n",
    "                binary_search(list,item)\n",
    "            else:\n",
    "                list=list[:i]\n",
    "                binary_search(list,item)"
   ]
  },
  {
   "cell_type": "code",
   "execution_count": null,
   "metadata": {},
   "outputs": [],
   "source": [
    "binary_search([0,2,4,6,8,10],2)"
   ]
  },
  {
   "cell_type": "markdown",
   "metadata": {},
   "source": [
    "### Acronyms"
   ]
  },
  {
   "cell_type": "code",
   "execution_count": null,
   "metadata": {},
   "outputs": [],
   "source": [
    "phrase = input('Enter a phrase')\n",
    "words = phrase.split()\n",
    "acronym=''\n",
    "for item in words:\n",
    "    acronym = acronym + item[0].upper()\n",
    "\n",
    "acronym"
   ]
  },
  {
   "cell_type": "markdown",
   "metadata": {},
   "source": [
    "### Alarm clock"
   ]
  },
  {
   "cell_type": "markdown",
   "metadata": {},
   "source": [
    "import datetime\n",
    "import playsound\n"
   ]
  },
  {
   "cell_type": "markdown",
   "metadata": {},
   "source": [
    "### Email slicer"
   ]
  },
  {
   "cell_type": "code",
   "execution_count": null,
   "metadata": {},
   "outputs": [],
   "source": [
    "email = input('Enter your email')\n",
    "username = email.split(\"@\")[0]\n",
    "domain = email.split(\"@\")[1]\n",
    "output = (f\"Username is '{username}' and domain is '{domain}'\")\n",
    "output"
   ]
  },
  {
   "cell_type": "markdown",
   "metadata": {},
   "source": [
    "### Password Generator"
   ]
  },
  {
   "cell_type": "code",
   "execution_count": null,
   "metadata": {},
   "outputs": [],
   "source": [
    "inputs = \"abcdefghijklmnopqrstuvwxyz!@#$%^&*()_+=,./<>?\"\n",
    "length = int(input('How long do you want your password to be?'))\n",
    "password = \"\".join(random.sample(inputs,length))\n",
    "password"
   ]
  },
  {
   "cell_type": "markdown",
   "metadata": {},
   "source": [
    "### Dice Rolling"
   ]
  },
  {
   "cell_type": "code",
   "execution_count": null,
   "metadata": {},
   "outputs": [],
   "source": [
    "die = random.randrange(1,6)\n",
    "die"
   ]
  },
  {
   "cell_type": "markdown",
   "metadata": {},
   "source": [
    "### Animal Quiz"
   ]
  },
  {
   "cell_type": "code",
   "execution_count": null,
   "metadata": {},
   "outputs": [],
   "source": [
    "def check(guess, answer):\n",
    "    if guess.lower() == answer.lower():\n",
    "        counter += 1\n",
    "        print(\"Correct\")\n",
    "    else:\n",
    "        print(\"Wrong answer\")\n",
    "    \n",
    "counter = 0    \n",
    "guess1 = input(\"Which bear lives at the North Pole? \")\n",
    "answer1 = \"Polar Bear\"\n",
    "guess2 = input(\"Which is the fastest land animal? \")\n",
    "answer2 = \"Cheetah\"\n",
    "guess3 = input(\"Which is the larget animal? \")\n",
    "answer3 = \"Blue Whale\"\n",
    "\n",
    "check(guess1, answer1)\n",
    "check(guess2, answer2)\n",
    "check(guess3, answer3)\n",
    "print(\"Your score was \", counter, \" out of 3\")\n"
   ]
  },
  {
   "cell_type": "code",
   "execution_count": 1,
   "metadata": {},
   "outputs": [
    {
     "data": {
      "text/plain": [
       "'C:\\\\Users\\\\jorda\\\\OneDrive\\\\Documents\\\\Data Science\\\\Job Stuff\\\\Kazang'"
      ]
     },
     "execution_count": 1,
     "metadata": {},
     "output_type": "execute_result"
    }
   ],
   "source": [
    "import os\n",
    "\n",
    "directory = input(\"Input the full path to the directory containing the file to be transformed.\")\n",
    "directory.replace(\"'\\'\", \"\\\\\")\n",
    "directory"
   ]
  },
  {
   "cell_type": "code",
   "execution_count": 2,
   "metadata": {},
   "outputs": [],
   "source": [
    "input_file = input(\"Enter the name of the file to be transformed, with the extension attached.\")\n",
    "path = input_file\n",
    "file_name, file_extension = os.path.splitext(path)\n",
    "output_file = file_name + \"_result\" + file_extension"
   ]
  },
  {
   "cell_type": "code",
   "execution_count": 3,
   "metadata": {},
   "outputs": [
    {
     "data": {
      "text/plain": [
       "'KazangBulkVouchers_Demo_result.txt'"
      ]
     },
     "execution_count": 3,
     "metadata": {},
     "output_type": "execute_result"
    }
   ],
   "source": [
    "output_file"
   ]
  }
 ],
 "metadata": {
  "interpreter": {
   "hash": "e8c7cd6bf908d36f32376a9e9a0d1c7b8ab11756b034f21c35895566b1fe94f6"
  },
  "kernelspec": {
   "display_name": "Python 3.10.4 64-bit (windows store)",
   "language": "python",
   "name": "python3"
  },
  "language_info": {
   "codemirror_mode": {
    "name": "ipython",
    "version": 3
   },
   "file_extension": ".py",
   "mimetype": "text/x-python",
   "name": "python",
   "nbconvert_exporter": "python",
   "pygments_lexer": "ipython3",
   "version": "3.10.4"
  },
  "orig_nbformat": 4
 },
 "nbformat": 4,
 "nbformat_minor": 2
}
