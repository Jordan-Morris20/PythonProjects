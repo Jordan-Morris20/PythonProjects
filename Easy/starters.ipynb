{
 "cells": [
  {
   "cell_type": "code",
   "execution_count": 2,
   "metadata": {},
   "outputs": [],
   "source": [
    "import random"
   ]
  },
  {
   "cell_type": "markdown",
   "metadata": {},
   "source": [
    "### Binary Search"
   ]
  },
  {
   "cell_type": "code",
   "execution_count": 19,
   "metadata": {},
   "outputs": [],
   "source": [
    "def binary_search(list,item):\n",
    "    \"\"\"_summary_\n",
    "    Find item in sorted list based on binary search\n",
    "    Args:\n",
    "        list (seq): ordered list of even numbers\n",
    "        item (number): number to find position of in list\n",
    "    \"\"\"\n",
    "      \n",
    "    start = 0\n",
    "    end = len(list)-1\n",
    "    \n",
    "    while start <= end:\n",
    "        i = (start + end)//2\n",
    "        if list[i] == item:\n",
    "            return print('found at position',i+1) \n",
    "        else:\n",
    "            i = (start + end)//2\n",
    "            if list[i] < item:\n",
    "                list=list[i:]\n",
    "                binary_search(list,item)\n",
    "            else:\n",
    "                list=list[:i]\n",
    "                binary_search(list,item)"
   ]
  },
  {
   "cell_type": "code",
   "execution_count": null,
   "metadata": {},
   "outputs": [
    {
     "ename": "",
     "evalue": "",
     "output_type": "error",
     "traceback": [
      "\u001b[1;31mCanceled future for execute_request message before replies were done"
     ]
    },
    {
     "ename": "",
     "evalue": "",
     "output_type": "error",
     "traceback": [
      "\u001b[1;31mThe Kernel crashed while executing code in the the current cell or a previous cell. Please review the code in the cell(s) to identify a possible cause of the failure. Click <a href='https://aka.ms/vscodeJupyterKernelCrash'>here</a> for more info. View Jupyter <a href='command:jupyter.viewOutput'>log</a> for further details."
     ]
    }
   ],
   "source": [
    "binary_search([0,2,4,6,8,10],2)"
   ]
  },
  {
   "cell_type": "markdown",
   "metadata": {},
   "source": [
    "### Acronyms"
   ]
  },
  {
   "cell_type": "code",
   "execution_count": 3,
   "metadata": {},
   "outputs": [
    {
     "data": {
      "text/plain": [
       "'TSY'"
      ]
     },
     "execution_count": 3,
     "metadata": {},
     "output_type": "execute_result"
    }
   ],
   "source": [
    "phrase = input('Enter a phrase')\n",
    "words = phrase.split()\n",
    "acronym=''\n",
    "for item in words:\n",
    "    acronym = acronym + item[0].upper()\n",
    "\n",
    "acronym"
   ]
  },
  {
   "cell_type": "markdown",
   "metadata": {},
   "source": [
    "### Alarm clock"
   ]
  },
  {
   "cell_type": "markdown",
   "metadata": {},
   "source": [
    "import datetime\n",
    "import playsound\n"
   ]
  },
  {
   "cell_type": "markdown",
   "metadata": {},
   "source": [
    "### Email slicer"
   ]
  },
  {
   "cell_type": "code",
   "execution_count": 6,
   "metadata": {},
   "outputs": [
    {
     "data": {
      "text/plain": [
       "\"Username is 'jordanmorris' and domain is 'mail.com'\""
      ]
     },
     "execution_count": 6,
     "metadata": {},
     "output_type": "execute_result"
    }
   ],
   "source": [
    "email = input('Enter your email')\n",
    "username = email.split(\"@\")[0]\n",
    "domain = email.split(\"@\")[1]\n",
    "output = (f\"Username is '{username}' and domain is '{domain}'\")\n",
    "output"
   ]
  },
  {
   "cell_type": "markdown",
   "metadata": {},
   "source": [
    "### Password Generator"
   ]
  },
  {
   "cell_type": "code",
   "execution_count": 4,
   "metadata": {},
   "outputs": [
    {
     "data": {
      "text/plain": [
       "'rhn*s'"
      ]
     },
     "execution_count": 4,
     "metadata": {},
     "output_type": "execute_result"
    }
   ],
   "source": [
    "inputs = \"abcdefghijklmnopqrstuvwxyz!@#$%^&*()_+=,./<>?\"\n",
    "length = int(input('How long do you want your password to be?'))\n",
    "password = \"\".join(random.sample(inputs,length))\n",
    "password"
   ]
  },
  {
   "cell_type": "markdown",
   "metadata": {},
   "source": [
    "### Dice Rolling"
   ]
  },
  {
   "cell_type": "code",
   "execution_count": 34,
   "metadata": {},
   "outputs": [
    {
     "data": {
      "text/plain": [
       "2"
      ]
     },
     "execution_count": 34,
     "metadata": {},
     "output_type": "execute_result"
    }
   ],
   "source": [
    "die = random.randrange(1,6)\n",
    "die"
   ]
  },
  {
   "cell_type": "markdown",
   "metadata": {},
   "source": [
    "### Animal Quiz"
   ]
  },
  {
   "cell_type": "code",
   "execution_count": null,
   "metadata": {},
   "outputs": [],
   "source": [
    "def check(guess, answer):\n",
    "    if guess.lower() == answer.lower():\n",
    "        counter += 1\n",
    "        print(\"Correct\")\n",
    "    else:\n",
    "        print(\"Wrong answer\")\n",
    "    \n",
    "counter = 0    \n",
    "guess1 = input(\"Which bear lives at the North Pole? \")\n",
    "answer1 = \"Polar Bear\"\n",
    "guess2 = input(\"Which is the fastest land animal? \")\n",
    "answer2 = \"Cheetah\"\n",
    "guess3 = input(\"Which is the larget animal? \")\n",
    "answer3 = \"Blue Whale\"\n",
    "\n",
    "check(guess1, answer1)\n",
    "check(guess2, answer2)\n",
    "check(guess3, answer3)\n",
    "print(\"Your score was \", counter, \" out of 3\")\n"
   ]
  }
 ],
 "metadata": {
  "interpreter": {
   "hash": "e4e790842f1f3f8cc9af60f11497bad7480530691aa862e49d489293a2832bd3"
  },
  "kernelspec": {
   "display_name": "Python 3.10.4 ('DataAnalysis')",
   "language": "python",
   "name": "python3"
  },
  "language_info": {
   "codemirror_mode": {
    "name": "ipython",
    "version": 3
   },
   "file_extension": ".py",
   "mimetype": "text/x-python",
   "name": "python",
   "nbconvert_exporter": "python",
   "pygments_lexer": "ipython3",
   "version": "3.10.4"
  },
  "orig_nbformat": 4
 },
 "nbformat": 4,
 "nbformat_minor": 2
}
